{
 "cells": [
  {
   "cell_type": "code",
   "execution_count": null,
   "id": "e6ff5f74-df18-4c9b-9e14-e51f07eb9aba",
   "metadata": {},
   "outputs": [],
   "source": [
    "qiskit"
   ]
  }
 ],
 "metadata": {
  "kernelspec": {
   "display_name": "Python 3 [Qiskit-Dev]",
   "language": "python",
   "name": "python3_qiskit_develo_j2x5vg"
  },
  "language_info": {
   "codemirror_mode": {
    "name": "ipython",
    "version": 3
   },
   "file_extension": ".py",
   "mimetype": "text/x-python",
   "name": "python",
   "nbconvert_exporter": "python",
   "pygments_lexer": "ipython3",
   "version": "3.9.10"
  }
 },
 "nbformat": 4,
 "nbformat_minor": 5
}
